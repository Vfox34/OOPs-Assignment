{
 "cells": [
  {
   "cell_type": "markdown",
   "id": "fdbd5f81-141e-4d4e-abd7-fdac02bc8783",
   "metadata": {},
   "source": [
    "                   OOPS Assignment"
   ]
  },
  {
   "cell_type": "markdown",
   "id": "a779d2fd-6a7e-494d-b429-799d70fb92b5",
   "metadata": {},
   "source": [
    "Q1.) What are the five key concepts of Object-Oriented Programming (OOP) ?"
   ]
  },
  {
   "cell_type": "markdown",
   "id": "604f4efe-ef69-4213-84f8-31fe6763d590",
   "metadata": {},
   "source": [
    "Ans. The five key OOP concepts are Encapsulation, Abstraction, Inheritance, Polymorphism, and Composition.\n",
    "     They help in creating modular, reusable, maintainable, and flexible software by modeling real-world entities."
   ]
  },
  {
   "cell_type": "markdown",
   "id": "573ae971-30ee-4eef-84e6-df44cc5663c4",
   "metadata": {},
   "source": [
    "The five key OOP concepts are:\n",
    "\n",
    "1. Encapsulation: Bundles data and methods within a class, hiding internal details and protecting object integrity.\n",
    "2. Abstraction: Simplifies complexity by exposing only essential features, hiding implementation details.\n",
    "3. Inheritance: Allows a class to inherit properties and behaviors from a parent class, promoting code reuse.\n",
    "4. Polymorphism: Enables objects to be treated as instances of their parent class, allowing method overriding and overloading.\n",
    "5. Composition: Creates complex objects by combining simpler ones, promoting flexible design."
   ]
  },
  {
   "cell_type": "markdown",
   "id": "e08a7d76-3275-4d60-805b-a6297e152a43",
   "metadata": {},
   "source": [
    "Q2.) Write a Python class for a 'Car' with attributes for 'make', 'model', and 'year'. Include a method to display the car's information."
   ]
  },
  {
   "cell_type": "code",
   "execution_count": 6,
   "id": "c33dbaaf-9d09-4172-acd8-c017c41b305f",
   "metadata": {},
   "outputs": [
    {
     "name": "stdout",
     "output_type": "stream",
     "text": [
      "Car Information: 2021 Toyota Camry\n"
     ]
    }
   ],
   "source": [
    "#Ans.\n",
    "class Car:\n",
    "    def __init__(self, make, model, year):\n",
    "        self.make = make\n",
    "        self.model = model\n",
    "        self.year = year\n",
    "\n",
    "    def display_info(self):\n",
    "        print(f\"Car Information: {self.year} {self.make} {self.model}\")\n",
    "\n",
    "# Example usage:\n",
    "car1 = Car(\"Toyota\", \"Camry\", 2021)\n",
    "car1.display_info()\n"
   ]
  },
  {
   "cell_type": "markdown",
   "id": "1637ee01-5fd1-4f49-a986-06a079dde652",
   "metadata": {},
   "source": [
    "Q3.) Explain the difference between instance methods and class methods. Provide an example of each."
   ]
  },
  {
   "cell_type": "markdown",
   "id": "0fac69c4-c7fd-4ab4-a7f4-0e7afe801a33",
   "metadata": {},
   "source": [
    "Ans. Difference Between Instance Methods and Class Methods\n",
    "\n",
    "1.) Instance Methods:\n",
    "\n",
    "Definition: Instance methods are functions defined within a class that operate on an instance of that class (i.e., the specific object). These methods can access and modify the instance's attributes and can call other instance methods.\n",
    "\n",
    "Usage: They are used when you need to access or modify the instance-specific data.\n",
    "\n",
    "Decorator: Instance methods do not require any special decorator"
   ]
  },
  {
   "cell_type": "markdown",
   "id": "6c94fb23-9382-4f41-b6de-d99ad0ebd7f7",
   "metadata": {},
   "source": [
    "2.) Class Methods:\n",
    "\n",
    "Definition: Class methods are functions defined within a class that operate on the class itself rather than an instance of the class. These methods can access and modify class-level attributes (shared across all instances).\n",
    "\n",
    "Usage: They are used when you need to perform an action related to the class as a whole rather than any specific instance.\n",
    "\n",
    "Decorator: Class methods are marked with the @classmethod decorator and take cls as the first parameter instead of self."
   ]
  },
  {
   "cell_type": "code",
   "execution_count": 7,
   "id": "97784427-ece4-485e-aaaa-2db940fd6266",
   "metadata": {},
   "outputs": [
    {
     "name": "stdout",
     "output_type": "stream",
     "text": [
      "Buddy says Woof!\n"
     ]
    }
   ],
   "source": [
    "class Dog:\n",
    "    def __init__(self, name, age):\n",
    "        self.name = name\n",
    "        self.age = age\n",
    "\n",
    "    def bark(self):\n",
    "        return f\"{self.name} says Woof!\"\n",
    "\n",
    "# Creating an instance\n",
    "dog = Dog(\"Buddy\", 3)\n",
    "print(dog.bark())  # Output: Buddy says Woof!\n"
   ]
  },
  {
   "cell_type": "code",
   "execution_count": 8,
   "id": "6e5d875e-058b-4289-b1ce-ba6eb8d7ee97",
   "metadata": {},
   "outputs": [
    {
     "name": "stdout",
     "output_type": "stream",
     "text": [
      "Canis lupus familiaris\n"
     ]
    }
   ],
   "source": [
    "class Dog:\n",
    "    species = \"Canis lupus familiaris\"  # Class attribute\n",
    "\n",
    "    def __init__(self, name, age):\n",
    "        self.name = name\n",
    "        self.age = age\n",
    "\n",
    "    @classmethod\n",
    "    def get_species(cls):\n",
    "        return cls.species\n",
    "\n",
    "# Accessing the class method\n",
    "print(Dog.get_species())  # Output: Canis lupus familiaris\n"
   ]
  },
  {
   "cell_type": "markdown",
   "id": "5ebb2eb5-7557-4d25-a110-eaa84359cea2",
   "metadata": {},
   "source": [
    "Q4.) How does Python implement method overloading ? Give an example."
   ]
  },
  {
   "cell_type": "markdown",
   "id": "f0da916e-ac75-426b-aa4c-21b0ae8de468",
   "metadata": {},
   "source": [
    "Ans. Method Overloading in Python\n",
    "\n",
    "Python does not support traditional method overloading as seen in languages like Java or C++. \n",
    "\n",
    "Instead, Python allows method overloading by using default arguments or variable-length arguments (*args and **kwargs). This allows a single method to handle different numbers or types of arguments."
   ]
  },
  {
   "cell_type": "code",
   "execution_count": 9,
   "id": "978b3124-462a-4f8d-884d-03c64fab627e",
   "metadata": {},
   "outputs": [
    {
     "name": "stdout",
     "output_type": "stream",
     "text": [
      "10\n",
      "30\n",
      "60\n"
     ]
    }
   ],
   "source": [
    "class Calculator:\n",
    "    def add(self, a, b=0, c=0):\n",
    "        return a + b + c\n",
    "\n",
    "# Example usage:\n",
    "calc = Calculator()\n",
    "\n",
    "# Calling the add method with different numbers of arguments\n",
    "print(calc.add(10))          # Output: 10\n",
    "print(calc.add(10, 20))      # Output: 30\n",
    "print(calc.add(10, 20, 30))  # Output: 60\n"
   ]
  },
  {
   "cell_type": "code",
   "execution_count": 10,
   "id": "ec4b55b8-1578-4c1a-89aa-0f9ba26afb75",
   "metadata": {},
   "outputs": [
    {
     "name": "stdout",
     "output_type": "stream",
     "text": [
      "10\n",
      "30\n",
      "60\n"
     ]
    }
   ],
   "source": [
    "class Calculator:\n",
    "    def add(self, *args):\n",
    "        return sum(args)\n",
    "\n",
    "# Example usage:\n",
    "calc = Calculator()\n",
    "\n",
    "# Calling the add method with different numbers of arguments\n",
    "print(calc.add(10))          # Output: 10\n",
    "print(calc.add(10, 20))      # Output: 30\n",
    "print(calc.add(10, 20, 30))  # Output: 60\n"
   ]
  },
  {
   "cell_type": "markdown",
   "id": "71ec5e23-a5b0-4e00-bffe-b877de3a7f40",
   "metadata": {},
   "source": [
    "Explanation:\n",
    "\n",
    "Default Arguments: In the first example, the add method is defined with default values for b and c. If fewer arguments are passed, the default values are used. This way, the same method can handle different numbers of arguments.\n",
    "\n",
    "Variable-Length Arguments: In the second example, the add method uses *args, which allows it to accept any number of positional arguments. This approach provides flexibility, allowing the method to handle any number of arguments.\n",
    "\n",
    "Both methods achieve the effect of overloading by using different techniques, allowing Python to handle multiple use cases with a single method definition."
   ]
  },
  {
   "cell_type": "markdown",
   "id": "d284cc26-a6ff-4bf4-a46e-c8828f366130",
   "metadata": {},
   "source": [
    "Q5.) What are the three types of access modifiers in Python ? How are they denoted ?"
   ]
  },
  {
   "cell_type": "markdown",
   "id": "58eb080b-5bac-4620-b9cd-14309c1bb95d",
   "metadata": {},
   "source": [
    "Ans. In Python, access modifiers control the visibility of class attributes and methods.\n",
    "\n",
    "While Python doesn’t enforce strict access control like some other programming languages (e.g., private, protected, public in Java), it uses naming conventions to indicate the intended access level. There are three types of access modifiers:\n",
    "\n",
    "1. Public:\n",
    "\n",
    "Denotation: No leading underscore (_).\n",
    "Description: Attributes and methods are public by default, meaning they can be accessed from outside the class.\n",
    "\n",
    "Example:"
   ]
  },
  {
   "cell_type": "code",
   "execution_count": 14,
   "id": "556391ce-bae4-4257-aae7-14165c612439",
   "metadata": {},
   "outputs": [
    {
     "name": "stdout",
     "output_type": "stream",
     "text": [
      "I am public\n",
      "This is a public method\n"
     ]
    }
   ],
   "source": [
    "class MyClass:\n",
    "    def __init__(self):\n",
    "        self.public_var = \"I am public\"\n",
    "\n",
    "    def public_method(self):\n",
    "        return \"This is a public method\"\n",
    "\n",
    "obj = MyClass()\n",
    "print(obj.public_var)  # Accessible\n",
    "print(obj.public_method())  # Accessible\n"
   ]
  },
  {
   "cell_type": "markdown",
   "id": "b9788714-999c-40e1-8c6f-1ee7e4b60c35",
   "metadata": {},
   "source": [
    "2. Protected:\n",
    "\n",
    "Denotation: Single leading underscore (_).\n",
    "\n",
    "Description: Attributes and methods are intended to be protected, meaning they should not be accessed outside the class and its subclasses. \n",
    "However, this is just a convention, and Python does not enforce it."
   ]
  },
  {
   "cell_type": "code",
   "execution_count": 15,
   "id": "e2e28335-1cd3-44a0-9263-eae4c64ab237",
   "metadata": {},
   "outputs": [
    {
     "name": "stdout",
     "output_type": "stream",
     "text": [
      "I am protected\n",
      "This is a protected method\n"
     ]
    }
   ],
   "source": [
    "class MyClass:\n",
    "    def __init__(self):\n",
    "        self._protected_var = \"I am protected\"\n",
    "\n",
    "    def _protected_method(self):\n",
    "        return \"This is a protected method\"\n",
    "\n",
    "obj = MyClass()\n",
    "print(obj._protected_var)  # Accessible but discouraged\n",
    "print(obj._protected_method())  # Accessible but discouraged\n"
   ]
  },
  {
   "cell_type": "markdown",
   "id": "23bb2640-9602-41bb-b90f-0aadf355908a",
   "metadata": {},
   "source": [
    "3. Private:\n",
    "\n",
    "Denotation: Double leading underscore (__).\n",
    "\n",
    "Description: Attributes and methods are intended to be private, meaning they are not accessible from outside the class. Python achieves this by name mangling, which changes the attribute's name internally.\n"
   ]
  },
  {
   "cell_type": "code",
   "execution_count": 16,
   "id": "fcac4dd9-5754-47c2-860b-7579a0240d0d",
   "metadata": {},
   "outputs": [
    {
     "name": "stdout",
     "output_type": "stream",
     "text": [
      "I am private\n",
      "This is a private method\n"
     ]
    }
   ],
   "source": [
    "class MyClass:\n",
    "    def __init__(self):\n",
    "        self.__private_var = \"I am private\"\n",
    "\n",
    "    def __private_method(self):\n",
    "        return \"This is a private method\"\n",
    "\n",
    "obj = MyClass()\n",
    "# The following lines will raise an AttributeError\n",
    "# print(obj.__private_var)  # Not directly accessible\n",
    "# print(obj.__private_method())  # Not directly accessible\n",
    "\n",
    "# Access through name mangling (not recommended)\n",
    "print(obj._MyClass__private_var)  # Accessible but discouraged\n",
    "print(obj._MyClass__private_method())  # Accessible but discouraged\n"
   ]
  },
  {
   "cell_type": "markdown",
   "id": "2aa8b90a-3d84-4d6e-9106-b2b83e36f3d8",
   "metadata": {},
   "source": [
    "Q6.) Describe the five types of inheritance in Python. Provide a simple example of multiple inheritance."
   ]
  },
  {
   "cell_type": "markdown",
   "id": "124342f3-f611-46f4-87b3-115c35f42cd9",
   "metadata": {},
   "source": [
    "Ans. Five Types of Inheritance in Python\n",
    "\n",
    "1.) Single Inheritance:\n",
    "\n",
    "Description: A single child class inherits from one parent class. This is the simplest form of inheritance.\n",
    "\n",
    "Example:"
   ]
  },
  {
   "cell_type": "code",
   "execution_count": 17,
   "id": "8ea9b79f-acec-4ab8-b2f7-07656c606188",
   "metadata": {},
   "outputs": [
    {
     "name": "stdout",
     "output_type": "stream",
     "text": [
      "Animal speaks\n",
      "Dog barks\n"
     ]
    }
   ],
   "source": [
    "class Animal:\n",
    "    def speak(self):\n",
    "        return \"Animal speaks\"\n",
    "\n",
    "class Dog(Animal):\n",
    "    def bark(self):\n",
    "        return \"Dog barks\"\n",
    "\n",
    "dog = Dog()\n",
    "print(dog.speak())  # Output: Animal speaks\n",
    "print(dog.bark())   # Output: Dog barks\n"
   ]
  },
  {
   "cell_type": "markdown",
   "id": "b0ef2f04-e9ae-487e-972f-e4729e1aac19",
   "metadata": {},
   "source": [
    "2.) Multiple Inheritance:\n",
    "\n",
    "Description: A child class inherits from more than one parent class. This allows the child class to inherit attributes and methods from multiple sources.\n",
    "\n",
    "Example\n"
   ]
  },
  {
   "cell_type": "code",
   "execution_count": 18,
   "id": "339fad0f-a4f9-4651-a355-cd079f0ba13f",
   "metadata": {},
   "outputs": [
    {
     "name": "stdout",
     "output_type": "stream",
     "text": [
      "Animal speaks\n",
      "Pet plays\n",
      "Dog barks\n"
     ]
    }
   ],
   "source": [
    "class Animal:\n",
    "    def speak(self):\n",
    "        return \"Animal speaks\"\n",
    "\n",
    "class Pet:\n",
    "    def play(self):\n",
    "        return \"Pet plays\"\n",
    "\n",
    "class Dog(Animal, Pet):\n",
    "    def bark(self):\n",
    "        return \"Dog barks\"\n",
    "\n",
    "dog = Dog()\n",
    "print(dog.speak())  # Output: Animal speaks\n",
    "print(dog.play())   # Output: Pet plays\n",
    "print(dog.bark())   # Output: Dog barks\n"
   ]
  },
  {
   "cell_type": "markdown",
   "id": "fd247e09-4305-4cd0-9609-c0bdf18e2a74",
   "metadata": {},
   "source": [
    "3.) Multilevel Inheritance:\n",
    "\n",
    "Description: A child class inherits from a parent class, and then another class inherits from that child class. This forms a chain of inheritance.\n",
    "\n",
    "Example:"
   ]
  },
  {
   "cell_type": "code",
   "execution_count": 19,
   "id": "18f0cfa4-49bf-4570-a76f-1c7c6bb01e2b",
   "metadata": {},
   "outputs": [
    {
     "name": "stdout",
     "output_type": "stream",
     "text": [
      "Animal speaks\n",
      "Dog barks\n",
      "Bulldog roars\n"
     ]
    }
   ],
   "source": [
    "class Animal:\n",
    "    def speak(self):\n",
    "        return \"Animal speaks\"\n",
    "\n",
    "class Dog(Animal):\n",
    "    def bark(self):\n",
    "        return \"Dog barks\"\n",
    "\n",
    "class Bulldog(Dog):\n",
    "    def roar(self):\n",
    "        return \"Bulldog roars\"\n",
    "\n",
    "bulldog = Bulldog()\n",
    "print(bulldog.speak())  # Output: Animal speaks\n",
    "print(bulldog.bark())   # Output: Dog barks\n",
    "print(bulldog.roar())   # Output: Bulldog roars\n"
   ]
  },
  {
   "cell_type": "markdown",
   "id": "ebe758d0-1b92-4983-8501-663929e3a534",
   "metadata": {},
   "source": [
    "4.) Hierarchical Inheritance:\n",
    "\n",
    "Description: Multiple child classes inherit from a single parent class. This means that the parent class's features are inherited by multiple subclasses.\n",
    "\n",
    "Example:"
   ]
  },
  {
   "cell_type": "code",
   "execution_count": 20,
   "id": "d71691e5-a9b4-4c18-8983-733dcb7f3754",
   "metadata": {},
   "outputs": [
    {
     "name": "stdout",
     "output_type": "stream",
     "text": [
      "Animal speaks\n",
      "Dog barks\n",
      "Animal speaks\n",
      "Cat meows\n"
     ]
    }
   ],
   "source": [
    "class Animal:\n",
    "    def speak(self):\n",
    "        return \"Animal speaks\"\n",
    "\n",
    "class Dog(Animal):\n",
    "    def bark(self):\n",
    "        return \"Dog barks\"\n",
    "\n",
    "class Cat(Animal):\n",
    "    def meow(self):\n",
    "        return \"Cat meows\"\n",
    "\n",
    "dog = Dog()\n",
    "cat = Cat()\n",
    "print(dog.speak())  # Output: Animal speaks\n",
    "print(dog.bark())   # Output: Dog barks\n",
    "print(cat.speak())  # Output: Animal speaks\n",
    "print(cat.meow())   # Output: Cat meows\n"
   ]
  },
  {
   "cell_type": "markdown",
   "id": "d657e178-c464-4a1f-85d4-bdab70408fc8",
   "metadata": {},
   "source": [
    "5.) Hybrid Inheritance:\n",
    "\n",
    "Description: A combination of two or more types of inheritance (e.g., multiple and hierarchical) that forms a complex inheritance structure.\n",
    "\n",
    "Example: Hybrid inheritance could involve a combination of hierarchical and multiple inheritance within the same class hierarchy. \n",
    "It is a more complex inheritance structure"
   ]
  },
  {
   "cell_type": "code",
   "execution_count": 21,
   "id": "5e9a5f07-8f1a-4ed6-9df4-44aebbdd73f4",
   "metadata": {},
   "outputs": [
    {
     "name": "stdout",
     "output_type": "stream",
     "text": [
      "Traits from father\n",
      "Traits from mother\n",
      "Traits from child\n"
     ]
    }
   ],
   "source": [
    "class Father:\n",
    "    def show_father_traits(self):\n",
    "        return \"Traits from father\"\n",
    "\n",
    "class Mother:\n",
    "    def show_mother_traits(self):\n",
    "        return \"Traits from mother\"\n",
    "\n",
    "class Child(Father, Mother):\n",
    "    def show_child_traits(self):\n",
    "        return \"Traits from child\"\n",
    "\n",
    "# Creating an instance of Child\n",
    "child = Child()\n",
    "\n",
    "print(child.show_father_traits())  # Output: Traits from father\n",
    "print(child.show_mother_traits())  # Output: Traits from mother\n",
    "print(child.show_child_traits())   # Output: Traits from child\n"
   ]
  },
  {
   "cell_type": "markdown",
   "id": "68cc2cfa-380c-48c4-845c-592bd4095cef",
   "metadata": {},
   "source": [
    "Q7.) What is the Method Resolution Order (MRO) in Python ? How can you retrieve it pragrammatically ?"
   ]
  },
  {
   "cell_type": "markdown",
   "id": "2c607dad-32a2-42c7-98aa-f1f28974cf9c",
   "metadata": {},
   "source": [
    "Ans. Method Resolution Order (MRO) in Python\n",
    "\n",
    "Method Resolution Order (MRO) is the order in which Python looks for a method or attribute in a hierarchy of classes. When a method is called on an object, Python searches for it first in the class of the object, then in its parent classes, and so on, following the MRO.\n",
    "\n",
    "The MRO is crucial in multiple inheritance, where a class can have more than one parent. Python uses the C3 Linearization (or C3 superclass linearization) algorithm to determine the MRO. This ensures a consistent and predictable method lookup order.\n",
    "\n",
    "How to Retrieve MRO Programmatically\n",
    "\n",
    "You can retrieve the MRO of a class using the following methods:\n",
    "\n",
    "Using the __mro__ attribute:\n",
    "\n",
    "This returns a tuple of classes in the MRO."
   ]
  },
  {
   "cell_type": "code",
   "execution_count": 22,
   "id": "b5786fea-d668-4fb8-8edc-2cb8451cb452",
   "metadata": {},
   "outputs": [
    {
     "name": "stdout",
     "output_type": "stream",
     "text": [
      "(<class '__main__.D'>, <class '__main__.B'>, <class '__main__.C'>, <class '__main__.A'>, <class 'object'>)\n"
     ]
    }
   ],
   "source": [
    "class A:\n",
    "    pass\n",
    "\n",
    "class B(A):\n",
    "    pass\n",
    "\n",
    "class C(A):\n",
    "    pass\n",
    "\n",
    "class D(B, C):\n",
    "    pass\n",
    "\n",
    "print(D.__mro__)\n"
   ]
  },
  {
   "cell_type": "markdown",
   "id": "2c197aa0-0b00-4d83-bb2b-c32697764491",
   "metadata": {},
   "source": [
    "Using the mro() method:\n",
    "\n",
    "This returns a list of classes in the MRO."
   ]
  },
  {
   "cell_type": "code",
   "execution_count": 23,
   "id": "d92c4362-8a24-4808-8343-7da1b8211e14",
   "metadata": {},
   "outputs": [
    {
     "name": "stdout",
     "output_type": "stream",
     "text": [
      "[<class '__main__.D'>, <class '__main__.B'>, <class '__main__.C'>, <class '__main__.A'>, <class 'object'>]\n"
     ]
    }
   ],
   "source": [
    "print(D.mro())\n"
   ]
  },
  {
   "cell_type": "markdown",
   "id": "4501e473-c529-460a-a5e5-8277e5852257",
   "metadata": {},
   "source": [
    "Using the help() function:\n",
    "\n",
    "This provides detailed information about the class, including its MRO."
   ]
  },
  {
   "cell_type": "code",
   "execution_count": 24,
   "id": "869782c0-c839-421c-b89e-a775e9f25ecc",
   "metadata": {},
   "outputs": [
    {
     "name": "stdout",
     "output_type": "stream",
     "text": [
      "Help on class D in module __main__:\n",
      "\n",
      "class D(B, C)\n",
      " |  Method resolution order:\n",
      " |      D\n",
      " |      B\n",
      " |      C\n",
      " |      A\n",
      " |      builtins.object\n",
      " |  \n",
      " |  Data descriptors inherited from A:\n",
      " |  \n",
      " |  __dict__\n",
      " |      dictionary for instance variables (if defined)\n",
      " |  \n",
      " |  __weakref__\n",
      " |      list of weak references to the object (if defined)\n",
      "\n"
     ]
    }
   ],
   "source": [
    "help(D)\n"
   ]
  },
  {
   "cell_type": "markdown",
   "id": "e2c1b751-00e1-4782-b176-075c81e5ce11",
   "metadata": {},
   "source": [
    "Summary:\n",
    "\n",
    "MRO determines the order in which base classes are searched when executing a method.\n",
    "\n",
    "It can be retrieved programmatically using __mro__, mro(), or help().\n",
    "\n",
    "\n"
   ]
  },
  {
   "cell_type": "markdown",
   "id": "64f1d373-2d6c-4c26-9911-80bad8fb5e57",
   "metadata": {},
   "source": [
    "Q8.)  Create an abstract base class `Shape` with an abstract method `area()`. Then create two subclasses\n",
    "`Circle` and `Rectangle` that implement the `area()` method."
   ]
  },
  {
   "cell_type": "code",
   "execution_count": 25,
   "id": "4b0a607c-bd3f-4030-b7e3-1dba3d0f99b1",
   "metadata": {},
   "outputs": [
    {
     "name": "stdout",
     "output_type": "stream",
     "text": [
      "Circle Area: 78.53981633974483\n",
      "Rectangle Area: 24\n"
     ]
    }
   ],
   "source": [
    "from abc import ABC, abstractmethod\n",
    "import math\n",
    "\n",
    "# Abstract base class\n",
    "class Shape(ABC):\n",
    "    @abstractmethod\n",
    "    def area(self):\n",
    "        pass\n",
    "\n",
    "# Subclass for Circle\n",
    "class Circle(Shape):\n",
    "    def __init__(self, radius):\n",
    "        self.radius = radius\n",
    "\n",
    "    def area(self):\n",
    "        return math.pi * self.radius ** 2\n",
    "\n",
    "# Subclass for Rectangle\n",
    "class Rectangle(Shape):\n",
    "    def __init__(self, width, height):\n",
    "        self.width = width\n",
    "        self.height = height\n",
    "\n",
    "    def area(self):\n",
    "        return self.width * self.height\n",
    "\n",
    "# Example usage:\n",
    "circle = Circle(5)\n",
    "rectangle = Rectangle(4, 6)\n",
    "\n",
    "print(f\"Circle Area: {circle.area()}\")\n",
    "print(f\"Rectangle Area: {rectangle.area()}\")\n"
   ]
  },
  {
   "cell_type": "markdown",
   "id": "7b600d27-6948-4233-a2e5-0b282d06b5f6",
   "metadata": {},
   "source": [
    "Q9.) Demonstrate polymorphism by creating a function that can work with different shape objects to calculate\n",
    "and print their areas."
   ]
  },
  {
   "cell_type": "code",
   "execution_count": 26,
   "id": "4a974d7a-e013-4f13-b269-cef07c858984",
   "metadata": {},
   "outputs": [
    {
     "name": "stdout",
     "output_type": "stream",
     "text": [
      "The area of the shape is: 78.53981633974483\n",
      "The area of the shape is: 24\n"
     ]
    }
   ],
   "source": [
    "from abc import ABC, abstractmethod\n",
    "import math\n",
    "\n",
    "# Abstract base class\n",
    "class Shape(ABC):\n",
    "    @abstractmethod\n",
    "    def area(self):\n",
    "        pass\n",
    "\n",
    "# Subclass for Circle\n",
    "class Circle(Shape):\n",
    "    def __init__(self, radius):\n",
    "        self.radius = radius\n",
    "\n",
    "    def area(self):\n",
    "        return math.pi * self.radius ** 2\n",
    "\n",
    "# Subclass for Rectangle\n",
    "class Rectangle(Shape):\n",
    "    def __init__(self, width, height):\n",
    "        self.width = width\n",
    "        self.height = height\n",
    "\n",
    "    def area(self):\n",
    "        return self.width * self.height\n",
    "\n",
    "# Function to calculate and print the area of a shape\n",
    "def print_area(shape: Shape):\n",
    "    print(f\"The area of the shape is: {shape.area()}\")\n",
    "\n",
    "# Example usage\n",
    "circle = Circle(5)\n",
    "rectangle = Rectangle(4, 6)\n",
    "\n",
    "print_area(circle)      # This will call Circle's area() method\n",
    "print_area(rectangle)  # This will call Rectangle's area() method\n"
   ]
  },
  {
   "cell_type": "markdown",
   "id": "1a15f9c3-d179-4732-9069-2d0d5c4c91e5",
   "metadata": {},
   "source": [
    "Q10.)  Implement encapsulation in a `BankAccount` class with private attributes for `balance` and\n",
    "`account_number`. Include methods for deposit, withdrawal, and balance inquiry."
   ]
  },
  {
   "cell_type": "code",
   "execution_count": 27,
   "id": "f268f09f-d270-453d-a82a-c103dc3ff1f5",
   "metadata": {},
   "outputs": [
    {
     "name": "stdout",
     "output_type": "stream",
     "text": [
      "Account Number: 123456789\n",
      "Initial Balance: $1000.00\n",
      "Deposited $500.00. New balance is $1500.00.\n",
      "Withdrew $200.00. New balance is $1300.00.\n",
      "Final Balance: $1300.00\n"
     ]
    }
   ],
   "source": [
    "class BankAccount:\n",
    "    def __init__(self, account_number, initial_balance=0):\n",
    "        self.__account_number = account_number  # Private attribute\n",
    "        self.__balance = initial_balance        # Private attribute\n",
    "\n",
    "    def deposit(self, amount):\n",
    "        if amount > 0:\n",
    "            self.__balance += amount\n",
    "            print(f\"Deposited ${amount:.2f}. New balance is ${self.__balance:.2f}.\")\n",
    "        else:\n",
    "            print(\"Deposit amount must be positive.\")\n",
    "\n",
    "    def withdraw(self, amount):\n",
    "        if amount > 0:\n",
    "            if amount <= self.__balance:\n",
    "                self.__balance -= amount\n",
    "                print(f\"Withdrew ${amount:.2f}. New balance is ${self.__balance:.2f}.\")\n",
    "            else:\n",
    "                print(\"Insufficient funds.\")\n",
    "        else:\n",
    "            print(\"Withdrawal amount must be positive.\")\n",
    "\n",
    "    def get_balance(self):\n",
    "        return self.__balance\n",
    "\n",
    "    def get_account_number(self):\n",
    "        return self.__account_number\n",
    "\n",
    "# Example usage\n",
    "account = BankAccount(\"123456789\", 1000)\n",
    "\n",
    "print(f\"Account Number: {account.get_account_number()}\")\n",
    "print(f\"Initial Balance: ${account.get_balance():.2f}\")\n",
    "\n",
    "account.deposit(500)\n",
    "account.withdraw(200)\n",
    "print(f\"Final Balance: ${account.get_balance():.2f}\")\n"
   ]
  },
  {
   "cell_type": "markdown",
   "id": "41172a4b-a7cc-42ab-8eef-0bb0dec1f2f4",
   "metadata": {},
   "source": [
    "Q11.) Write a class that overrides the `__str__` and `__add__` magic methods. What will these methods allow\n",
    "you to do?"
   ]
  },
  {
   "cell_type": "code",
   "execution_count": 28,
   "id": "63a8d271-c977-42af-a5c4-e985906b69f2",
   "metadata": {},
   "outputs": [
    {
     "name": "stdout",
     "output_type": "stream",
     "text": [
      "Vector(2, 3)\n",
      "Vector(4, 5)\n",
      "Vector(6, 8)\n"
     ]
    }
   ],
   "source": [
    "class Vector:\n",
    "    def __init__(self, x, y):\n",
    "        self.x = x\n",
    "        self.y = y\n",
    "\n",
    "    def __str__(self):\n",
    "        return f\"Vector({self.x}, {self.y})\"\n",
    "\n",
    "    def __add__(self, other):\n",
    "        if isinstance(other, Vector):\n",
    "            return Vector(self.x + other.x, self.y + other.y)\n",
    "        return NotImplemented\n",
    "\n",
    "# Example usage\n",
    "v1 = Vector(2, 3)\n",
    "v2 = Vector(4, 5)\n",
    "\n",
    "# Printing the vector objects\n",
    "print(v1)  # Output: Vector(2, 3)\n",
    "print(v2)  # Output: Vector(4, 5)\n",
    "\n",
    "# Adding two vector objects\n",
    "v3 = v1 + v2\n",
    "print(v3)  # Output: Vector(6, 8)\n"
   ]
  },
  {
   "cell_type": "markdown",
   "id": "667b3752-bfe8-4a56-a004-a3fc11b4cd0a",
   "metadata": {},
   "source": [
    "Explanation:\n",
    "\n",
    "1. __str__ Method:\n",
    "\n",
    "This method is used to define a human-readable string representation of the object.\n",
    "When print(v1) is called or when str(v1) is used, Python invokes v1.__str__().\n",
    "In this example, __str__ returns a formatted string that shows the x and y components of the Vector object.\n",
    "\n",
    "2. __add__ Method:\n",
    "\n",
    "This method defines how the addition operator (+) should behave for instances of the class.\n",
    "When v1 + v2 is executed, Python calls v1.__add__(v2).\n",
    "\n",
    "The __add__ method returns a new Vector instance with components that are the sum of the corresponding components of v1 and v2.\n",
    "The check isinstance(other, Vector) ensures that the operation is only performed if the other operand is also a Vector. If not, it returns NotImplemented, which allows Python to handle the addition operation with a fallback or raise an error.\n",
    "By overriding these methods, you customize how your objects are represented as strings and how they interact with arithmetic operations, enhancing the usability and readability of your class."
   ]
  },
  {
   "cell_type": "markdown",
   "id": "d76e4d52-f3e5-40a7-9bdb-ee616532b600",
   "metadata": {},
   "source": [
    "Q12.) Create a decorator that measures and prints the execution time of a function."
   ]
  },
  {
   "cell_type": "code",
   "execution_count": 29,
   "id": "b5c7651f-fda2-468d-8786-587ef6d2ed06",
   "metadata": {},
   "outputs": [
    {
     "name": "stdout",
     "output_type": "stream",
     "text": [
      "Execution time of example_function: 0.0745 seconds\n",
      "Result: 499999500000\n"
     ]
    }
   ],
   "source": [
    "import time\n",
    "from functools import wraps\n",
    "\n",
    "def timing_decorator(func):\n",
    "    @wraps(func)\n",
    "    def wrapper(*args, **kwargs):\n",
    "        start_time = time.time()  # Capture start time\n",
    "        result = func(*args, **kwargs)  # Call the actual function\n",
    "        end_time = time.time()  # Capture end time\n",
    "        elapsed_time = end_time - start_time  # Calculate elapsed time\n",
    "        print(f\"Execution time of {func.__name__}: {elapsed_time:.4f} seconds\")\n",
    "        return result  # Return the result of the function\n",
    "    return wrapper\n",
    "\n",
    "# Example usage\n",
    "@timing_decorator\n",
    "def example_function(n):\n",
    "    total = 0\n",
    "    for i in range(n):\n",
    "        total += i\n",
    "    return total\n",
    "\n",
    "result = example_function(1000000)\n",
    "print(f\"Result: {result}\")\n"
   ]
  },
  {
   "cell_type": "markdown",
   "id": "04a88b64-0cf4-4ea3-aa96-d94c20a39d59",
   "metadata": {},
   "source": [
    "Q13.) Explain the concept of the Diamond Problem in multiple inheritance. How does Python resolve it?"
   ]
  },
  {
   "cell_type": "markdown",
   "id": "c035f7ec-bcbe-4499-813e-d9441b1201a6",
   "metadata": {},
   "source": [
    "Ans. The Diamond Problem is a classic issue that arises in object-oriented programming when dealing with multiple inheritance. \n",
    "It occurs when a class inherits from two classes that both inherit from a common base class, leading to ambiguity in the inheritance hierarchy. \n",
    "This situation can cause problems such as duplicate method resolution and inconsistent behavior."
   ]
  },
  {
   "cell_type": "markdown",
   "id": "b579b7d1-0270-4116-a360-e770db5fb76c",
   "metadata": {},
   "source": [
    "Here’s how Python resolves the Diamond Problem using the MRO:\n",
    "\n",
    "Determine the MRO:\n",
    "\n",
    "Python calculates the MRO of a class using the C3 linearization algorithm.\n",
    "The MRO provides a list of classes that Python will search through to find methods and attributes.\n",
    "\n",
    "Order of Resolution:\n",
    "\n",
    "Python first looks in the class itself, then in the MRO list following the class.\n",
    "This ensures that the methods are resolved in a consistent manner according to the order in which classes are specified."
   ]
  },
  {
   "cell_type": "code",
   "execution_count": 30,
   "id": "1d02520a-ae5a-4485-bdad-f10b3fa071ac",
   "metadata": {},
   "outputs": [
    {
     "name": "stdout",
     "output_type": "stream",
     "text": [
      "Method in B\n"
     ]
    }
   ],
   "source": [
    "class A:\n",
    "    def method(self):\n",
    "        print(\"Method in A\")\n",
    "\n",
    "class B(A):\n",
    "    def method(self):\n",
    "        print(\"Method in B\")\n",
    "\n",
    "class C(A):\n",
    "    def method(self):\n",
    "        print(\"Method in C\")\n",
    "\n",
    "class D(B, C):\n",
    "    pass\n",
    "\n",
    "# Create an instance of D\n",
    "d = D()\n",
    "d.method()  # Output will be \"Method in B\"\n"
   ]
  },
  {
   "cell_type": "code",
   "execution_count": 31,
   "id": "83abcc7e-ad66-479c-ae2a-df34d6102d5c",
   "metadata": {},
   "outputs": [
    {
     "name": "stdout",
     "output_type": "stream",
     "text": [
      "[<class '__main__.D'>, <class '__main__.B'>, <class '__main__.C'>, <class '__main__.A'>, <class 'object'>]\n"
     ]
    }
   ],
   "source": [
    "print(D.mro())\n"
   ]
  },
  {
   "cell_type": "markdown",
   "id": "d5955863-3cf1-4297-abe5-9ae27e75cc79",
   "metadata": {},
   "source": [
    "Q14.) Write a class method that keeps track of the number of instances created from a class."
   ]
  },
  {
   "cell_type": "code",
   "execution_count": 32,
   "id": "c8a8d583-74b5-48bc-bb0b-14fd35ae5316",
   "metadata": {},
   "outputs": [
    {
     "name": "stdout",
     "output_type": "stream",
     "text": [
      "Number of instances created: 3\n"
     ]
    }
   ],
   "source": [
    "class InstanceCounter:\n",
    "    # Class variable to keep track of the number of instances\n",
    "    _instance_count = 0\n",
    "\n",
    "    def __init__(self):\n",
    "        # Increment the instance count when a new instance is created\n",
    "        InstanceCounter._instance_count += 1\n",
    "\n",
    "    @classmethod\n",
    "    def get_instance_count(cls):\n",
    "        # Class method to return the number of instances created\n",
    "        return cls._instance_count\n",
    "\n",
    "# Example usage\n",
    "a = InstanceCounter()\n",
    "b = InstanceCounter()\n",
    "c = InstanceCounter()\n",
    "\n",
    "print(f\"Number of instances created: {InstanceCounter.get_instance_count()}\")\n"
   ]
  },
  {
   "cell_type": "markdown",
   "id": "d66a143d-a673-4746-b98e-309ff3850633",
   "metadata": {},
   "source": [
    "Q15.) Implement a static method in a class that checks if a given year is a leap year."
   ]
  },
  {
   "cell_type": "code",
   "execution_count": 33,
   "id": "d337ed65-88eb-41a6-b010-8371d2c9c753",
   "metadata": {},
   "outputs": [
    {
     "name": "stdout",
     "output_type": "stream",
     "text": [
      "True\n",
      "False\n",
      "True\n",
      "True\n",
      "False\n"
     ]
    }
   ],
   "source": [
    "class YearUtils:\n",
    "    @staticmethod\n",
    "    def is_leap_year(year):\n",
    "        \"\"\"Check if the given year is a leap year.\"\"\"\n",
    "        if (year % 4 == 0):\n",
    "            if (year % 100 == 0):\n",
    "                if (year % 400 == 0):\n",
    "                    return True\n",
    "                else:\n",
    "                    return False\n",
    "            else:\n",
    "                return True\n",
    "        else:\n",
    "            return False\n",
    "\n",
    "# Example usage\n",
    "print(YearUtils.is_leap_year(2020))  # Output: True (2020 is a leap year)\n",
    "print(YearUtils.is_leap_year(1900))  # Output: False (1900 is not a leap year)\n",
    "print(YearUtils.is_leap_year(2000))  # Output: True (2000 is a leap year)\n",
    "print(YearUtils.is_leap_year(2024))  # Output: True (2024 is a leap year)\n",
    "print(YearUtils.is_leap_year(2023))  # Output: False (2023 is not a leap year)\n"
   ]
  },
  {
   "cell_type": "code",
   "execution_count": null,
   "id": "cb876512-fa01-45a5-8e20-85a034b1b373",
   "metadata": {},
   "outputs": [],
   "source": []
  }
 ],
 "metadata": {
  "kernelspec": {
   "display_name": "Python 3 (ipykernel)",
   "language": "python",
   "name": "python3"
  },
  "language_info": {
   "codemirror_mode": {
    "name": "ipython",
    "version": 3
   },
   "file_extension": ".py",
   "mimetype": "text/x-python",
   "name": "python",
   "nbconvert_exporter": "python",
   "pygments_lexer": "ipython3",
   "version": "3.10.8"
  }
 },
 "nbformat": 4,
 "nbformat_minor": 5
}
